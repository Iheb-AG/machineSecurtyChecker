{
  "nbformat": 4,
  "nbformat_minor": 0,
  "metadata": {
    "colab": {
      "provenance": [],
      "collapsed_sections": [
        "Sw-QmA631FJ3"
      ]
    },
    "kernelspec": {
      "name": "python3",
      "display_name": "Python 3"
    },
    "language_info": {
      "name": "python"
    }
  },
  "cells": [
    {
      "cell_type": "markdown",
      "source": [
        "# Documentation\n",
        "\n",
        "The user interacts with the expert system to determine the hazards that can affect their machine by answering a series of questions:\n",
        "\n",
        " - Validation of the entered password\n",
        " - Is the machine up to date?\n",
        " - Is an antivirus installed?\n",
        " - Is the firewall activated?\n",
        " - Has there been any interaction with an unknown website/program?\n",
        "\n",
        "Regarding the obtained results:\n",
        "\n",
        " - The system informs the user about the identified risks.\n",
        " - The system also provides information about the security of their machine."
      ],
      "metadata": {
        "id": "FWoNEIsjsYDK"
      }
    },
    {
      "cell_type": "markdown",
      "source": [
        "# pip installs"
      ],
      "metadata": {
        "id": "Sw-QmA631FJ3"
      }
    },
    {
      "cell_type": "code",
      "execution_count": null,
      "metadata": {
        "colab": {
          "base_uri": "https://localhost:8080/"
        },
        "id": "a8Alwd4Q0ZKE",
        "outputId": "db046d33-7e23-42a8-d4c9-dfebb6f25459"
      },
      "outputs": [
        {
          "output_type": "stream",
          "name": "stdout",
          "text": [
            "Looking in indexes: https://pypi.org/simple, https://us-python.pkg.dev/colab-wheels/public/simple/\n",
            "Collecting experta\n",
            "  Downloading experta-1.9.4-py3-none-any.whl (35 kB)\n",
            "Collecting frozendict==1.2\n",
            "  Downloading frozendict-1.2.tar.gz (2.6 kB)\n",
            "  Preparing metadata (setup.py) ... \u001b[?25l\u001b[?25hdone\n",
            "Collecting schema==0.6.7\n",
            "  Downloading schema-0.6.7-py2.py3-none-any.whl (14 kB)\n",
            "Building wheels for collected packages: frozendict\n",
            "  Building wheel for frozendict (setup.py) ... \u001b[?25l\u001b[?25hdone\n",
            "  Created wheel for frozendict: filename=frozendict-1.2-py3-none-any.whl size=3166 sha256=be7c08ffedb5807c282b1ad0377780c1c9b30608a48d72ccc5777ba3991c601e\n",
            "  Stored in directory: /root/.cache/pip/wheels/ff/80/86/2d516a3c26397f67adaa2c848879d4a6359d90a60546ce4e03\n",
            "Successfully built frozendict\n",
            "Installing collected packages: schema, frozendict, experta\n",
            "  Attempting uninstall: frozendict\n",
            "    Found existing installation: frozendict 2.3.7\n",
            "    Uninstalling frozendict-2.3.7:\n",
            "      Successfully uninstalled frozendict-2.3.7\n",
            "\u001b[31mERROR: pip's dependency resolver does not currently take into account all the packages that are installed. This behaviour is the source of the following dependency conflicts.\n",
            "yfinance 0.2.18 requires frozendict>=2.3.4, but you have frozendict 1.2 which is incompatible.\u001b[0m\u001b[31m\n",
            "\u001b[0mSuccessfully installed experta-1.9.4 frozendict-1.2 schema-0.6.7\n",
            "Looking in indexes: https://pypi.org/simple, https://us-python.pkg.dev/colab-wheels/public/simple/\n",
            "Requirement already satisfied: frozendict in /usr/local/lib/python3.10/dist-packages (1.2)\n",
            "Collecting frozendict\n",
            "  Downloading frozendict-2.3.8-cp310-cp310-manylinux_2_17_x86_64.manylinux2014_x86_64.whl (115 kB)\n",
            "\u001b[2K     \u001b[90m━━━━━━━━━━━━━━━━━━━━━━━━━━━━━━━━━━━━━━\u001b[0m \u001b[32m115.3/115.3 kB\u001b[0m \u001b[31m10.0 MB/s\u001b[0m eta \u001b[36m0:00:00\u001b[0m\n",
            "\u001b[?25hInstalling collected packages: frozendict\n",
            "  Attempting uninstall: frozendict\n",
            "    Found existing installation: frozendict 1.2\n",
            "    Uninstalling frozendict-1.2:\n",
            "      Successfully uninstalled frozendict-1.2\n",
            "\u001b[31mERROR: pip's dependency resolver does not currently take into account all the packages that are installed. This behaviour is the source of the following dependency conflicts.\n",
            "experta 1.9.4 requires frozendict==1.2, but you have frozendict 2.3.8 which is incompatible.\u001b[0m\u001b[31m\n",
            "\u001b[0mSuccessfully installed frozendict-2.3.8\n"
          ]
        }
      ],
      "source": [
        "!pip install experta\n",
        "!pip install --upgrade frozendict\n",
        "# !pip install re"
      ]
    },
    {
      "cell_type": "markdown",
      "source": [
        "# implementation"
      ],
      "metadata": {
        "id": "JKjQ6YWN1POO"
      }
    },
    {
      "cell_type": "code",
      "source": [
        "from experta import *\n",
        "import re\n",
        "# import getpass\n",
        "\n",
        "choices={\"yes\":True,\"no\":False}\n",
        "threatTrigger = False\n",
        "\n",
        "class Threats(Fact):\n",
        "    pass\n",
        "\n",
        "class ThreatClassification(KnowledgeEngine):\n",
        "    @Rule(Threats(threats={\"user_password\":None}))\n",
        "    def weakPassword(self):\n",
        "      print(\"Your password is weak. Make sure to include a combination of alphabets, numbers, and symbols and have a length of at least 8.\")\n",
        "      # threatTrigger=True\n",
        "\n",
        "    @Rule(Threats(threats={\"outdated_software\":True}))\n",
        "    def outdatedSoftware(self):\n",
        "        print(\"Your system is not updated. A vulnerability can be exploited to hack your system.\")\n",
        "        # threatTrigger=True\n",
        "\n",
        "    @Rule(Threats(threats={\"antivirus_installed\":False}))\n",
        "    def noAntivirus(self):\n",
        "        print(\"Your system does not have antivirus. A virus can harm your system.\")\n",
        "        # threatTrigger=True\n",
        "\n",
        "    @Rule(Threats(threats={\"firewall_enabled\":False}))\n",
        "    def noFirewall(self):\n",
        "        print(\"Your system does not have firewall. Unauthorized access may occur.\")\n",
        "        # threatTrigger=True\n",
        "\n",
        "    @Rule(Threats(threats={\"sus_link\":True}))\n",
        "    def susLink(self):\n",
        "        print(\"You've probably interacted with a suspicious link.\")\n",
        "        # threatTrigger=True\n",
        "\n",
        "\n",
        "engine = ThreatClassification()\n",
        "engine.reset()\n",
        "\n",
        "\n",
        "user_password = input(\"test your password : \")\n",
        "engine.declare(Threats(threats={\"user_password\":re.match(r\"[A-Za-z0-9]{8,}\",user_password)}))\n",
        "engine.declare(Threats(threats={\"outdated_software\":choices[input(\"do You postpone your update for too long ?\")]}))\n",
        "engine.declare(Threats(threats={\"antivirus_installed\":choices[input(\"do you have antivirus on your system ? \")]}))\n",
        "engine.declare(Threats(threats={\"firewall_enabled\":choices[input(\"do you have firewall enabled ?\")]}))\n",
        "engine.declare(Threats(threats={\"sus_link\":choices[input(\"have you downloaded from / interacted with suspicious website/software ? \")]}))\n",
        "\n",
        "# if(threatTrigger==True):\n",
        "#   print(\"Your system is all safe !\")\n",
        "\n",
        "engine.run()"
      ],
      "metadata": {
        "colab": {
          "base_uri": "https://localhost:8080/"
        },
        "id": "b-Sa0cTtCKIV",
        "outputId": "1837615e-7426-40b2-eccd-a3474c469d36"
      },
      "execution_count": null,
      "outputs": [
        {
          "output_type": "stream",
          "name": "stdout",
          "text": [
            "test your password : testt8924xcw\n",
            "do You postpone your update for too long ?no\n",
            "do you have antivirus on your system ? no\n",
            "do you have firewall enabled ?yes\n",
            "have you downloaded from / interacted with suspicious website/software ? no\n",
            "Your system does not have antivirus. A virus can harm your system.\n"
          ]
        }
      ]
    }
  ]
}